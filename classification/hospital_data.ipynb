{
 "cells": [
  {
   "cell_type": "code",
   "execution_count": 2,
   "metadata": {
    "collapsed": true
   },
   "outputs": [],
   "source": [
    "import os\n",
    "import pandas as pd\n",
    "import numpy as np\n",
    "import matplotlib.pyplot as plt"
   ]
  },
  {
   "cell_type": "code",
   "execution_count": 55,
   "metadata": {
    "collapsed": false
   },
   "outputs": [
    {
     "name": "stdout",
     "output_type": "stream",
     "text": [
      "<class 'pandas.core.frame.DataFrame'>\n",
      "RangeIndex: 9013 entries, 0 to 9012\n",
      "Data columns (total 87 columns):\n",
      "Prov Number                  9013 non-null int64\n",
      "Clinic                       9013 non-null object\n",
      "Division                     9013 non-null object\n",
      "District                     9013 non-null object\n",
      "Specialty                    9013 non-null object\n",
      "Region                       9013 non-null object\n",
      "Prenatal Care                9013 non-null object\n",
      "Postpartum Care              9013 non-null object\n",
      "Imm: Child Combo 2           9013 non-null object\n",
      "Antidep Med: Contacts        9013 non-null object\n",
      "Antidep Med: 84 Days         9013 non-null object\n",
      "Antidep Med: 180 Days        9013 non-null object\n",
      "Mental Hosp FU: 7 Day        9013 non-null object\n",
      "Total PMPM                   9013 non-null object\n",
      "PCP consult ratio n M'car    9013 non-null object\n",
      "PCP consult ratio M'care     9013 non-null object\n",
      "% Female-non medicare        9013 non-null object\n",
      "% Female-medicare            9013 non-null object\n",
      "Avg Age-non medicare         9013 non-null object\n",
      "Avg Age-medicare             9013 non-null object\n",
      "Panel size-non medicare      9013 non-null object\n",
      "Panel size-medicare          9013 non-null object\n",
      "ER Visits/1000 non M'care    9013 non-null object\n",
      "ER Visits/1000 M'care        9013 non-null object\n",
      "% panel vst seen by PCP      9013 non-null object\n",
      "% PCP schedule for panel     9013 non-null object\n",
      "URI: Appropriate Tx          9013 non-null object\n",
      "Pharyngitis: Testing         9013 non-null object\n",
      "AOD: Initiation of Tx        9013 non-null object\n",
      "Util: 1st Line antib use     9013 non-null object\n",
      "ER Visit/1000 non-m'care     9013 non-null object\n",
      "PCI ratio non-m'care         9013 non-null object\n",
      "MRI/1000 enr-m'care          9013 non-null object\n",
      "MRI/1000 enr-NON m'care      9013 non-null object\n",
      "CT/1000enr-m'care            9013 non-null object\n",
      "CT/1000enr-non m'care        9013 non-null object\n",
      "Lab/1000 enr-m'care          9013 non-null object\n",
      "Lab/1000 enr-NON m'care      9013 non-null object\n",
      "% Generic Rx                 9013 non-null object\n",
      "CAD: Chol Mgt-LDL Screen     9013 non-null object\n",
      "Well-Child Visit 15MO: 6+    9013 non-null object\n",
      "Well-Child 3-6 YO            9013 non-null object\n",
      "Well-Care Adolescent         9013 non-null object\n",
      "Asthma Appropriate Meds      9013 non-null object\n",
      "Screen: Chlamydia            9013 non-null object\n",
      "Panel - % Medicare           9013 non-null object\n",
      "PCP consult ratio            9013 non-null object\n",
      "CT-MRI/1000enr-m'care        9013 non-null object\n",
      "CT-MRI/1000enr-non m'care    9013 non-null object\n",
      "CT-MRI/1000enr-m'care&non    9013 non-null object\n",
      "AOD: Engagement of Tx        9013 non-null object\n",
      "CAD: Beta Blocker Persist    9013 non-null object\n",
      "Total panel size             9013 non-null object\n",
      "Panel Inx:agg Pat inx #2     9013 non-null object\n",
      "Controlling HBP              9013 non-null object\n",
      "Panel Inx:agg Pat inx #1     9013 non-null object\n",
      "Child Access 7-11YO          9013 non-null object\n",
      "DM: HbA1c Test               9013 non-null object\n",
      "DM: Retinal Exam             9013 non-null object\n",
      "DM: LDL Screen (Annual)      9013 non-null object\n",
      "DM: LDL<100 (Annual)         9013 non-null object\n",
      "DM: LDL<130                  9013 non-null object\n",
      "DM: Nephropathy              9013 non-null object\n",
      "Pri Care Qlty Incent Idx     9013 non-null object\n",
      "Screen: Breast CA (40-69)    9013 non-null object\n",
      "Screen: Cervical CA          9013 non-null object\n",
      "Listen carefully to you?     9013 non-null object\n",
      "Explain understandably?      9013 non-null object\n",
      "Spend enough time w/ you?    9013 non-null object\n",
      "Respect what you said?       9013 non-null object\n",
      "Your best interests 1st?     9013 non-null object\n",
      "Info to diagnose/treat       9013 non-null object\n",
      "Knowledge of medical hx      9013 non-null object\n",
      "Helpful-clinical staff       9013 non-null object\n",
      "Courtesy/Respect-clinical    9013 non-null object\n",
      "Helpful-office staff         9013 non-null object\n",
      "In exam room w/in 15 min     9013 non-null object\n",
      "Wait time explanation        9013 non-null object\n",
      "Clinician rating (0-10)      9013 non-null object\n",
      "Help/advice you needed       9013 non-null object\n",
      "Urgent care when wanted      9013 non-null object\n",
      "Appt for care when wanted    9013 non-null object\n",
      "Get PCP you're happy with    9013 non-null object\n",
      "Ease of seeing specialist    9013 non-null object\n",
      "Get care believed nec        9013 non-null object\n",
      "Overall Health Care          9013 non-null object\n",
      "Courtesy/Respect-office      9013 non-null object\n",
      "dtypes: int64(1), object(86)\n",
      "memory usage: 6.0+ MB\n"
     ]
    }
   ],
   "source": [
    "def load_data(path_to_file):\n",
    "    return pd.read_csv(path_to_file)\n",
    "hosp_data = load_data(os.path.join(os.getcwd(), 'hospital_data.csv'))\n",
    "hosp_data.head(100)\n",
    "hosp_data.info()\n"
   ]
  },
  {
   "cell_type": "code",
   "execution_count": 184,
   "metadata": {
    "collapsed": false
   },
   "outputs": [],
   "source": [
    "#Let's start by creating our pipeline of transformations\n",
    "from sklearn.base import BaseEstimator, TransformerMixin\n",
    "from sklearn.pipeline import Pipeline, FeatureUnion\n",
    "\n",
    "class RowRemover(BaseEstimator, TransformerMixin):\n",
    "    def __init__(self, rows_to_remove):\n",
    "        self.rm_rows = rows_to_remove\n",
    "    def fit(self, X, y=None):\n",
    "        return self\n",
    "    def transform(self, X):\n",
    "        return X.drop(self.rm_rows, axis=0)\n",
    "\n",
    "class RegexReplacer(BaseEstimator, TransformerMixin):\n",
    "    def __init__(self, find, replace):\n",
    "        self.find = find\n",
    "        self.replace  = replace\n",
    "    def fit(self, X, y=None):\n",
    "        return self\n",
    "    def transform(self, X):\n",
    "        return X.replace(self.find, self.replace, regex=True)\n",
    "\n",
    "class DataFrameSelector(BaseEstimator, TransformerMixin):\n",
    "    def __init__(self, attributes_names_to_keep):\n",
    "        self.attribute_names = attributes_names_to_keep\n",
    "    \n",
    "    def fit(self, X, y=None):\n",
    "        return self\n",
    "    \n",
    "    def transform(self, X):\n",
    "        return X[self.attribute_names].values\n",
    "\n",
    "\n",
    "class CleanNaN(BaseEstimator, TransformerMixin):\n",
    "    def __init__(self):\n",
    "        pass\n",
    "    \n",
    "    def fit(self, X, y=None):\n",
    "        return self\n",
    "    \n",
    "    def transform(self, X):\n",
    "        mask = pd.notnull(X).all(axis=1)\n",
    "        return X[mask]\n",
    "\n",
    "cleaning_pipeline = Pipeline([\n",
    "    ('rowremover', RowRemover(0)),\n",
    "    ('nanreplacer', RegexReplacer(r'^\\s+', np.nan)),\n",
    "])\n"
   ]
  },
  {
   "cell_type": "code",
   "execution_count": 205,
   "metadata": {
    "collapsed": false
   },
   "outputs": [
    {
     "data": {
      "text/plain": [
       "array([[0, 0, 0, ..., 0, '0.9863013699', '0.7083333333'],\n",
       "       [0, 0, 0, ..., 0, '0.870846731', '0.8'],\n",
       "       [0, 0, 0, ..., 0, '0.9790794979', '0.8181818182'],\n",
       "       ..., \n",
       "       [0, 0, 0, ..., 0, '1', '0.7142857143'],\n",
       "       [0, 0, 0, ..., 0, '0.5', '1'],\n",
       "       [0, 0, 0, ..., 0, '1', '0.7']], dtype=object)"
      ]
     },
     "execution_count": 205,
     "metadata": {},
     "output_type": "execute_result"
    }
   ],
   "source": [
    "from sklearn.preprocessing import Imputer, StandardScaler, LabelBinarizer\n",
    "\n",
    "#First try: Let's try to use regression on 2 simple features\n",
    "features = ['% Generic Rx','Clinician rating (0-10)' ]\n",
    "cat_attrs = ['Specialty']\n",
    "\n",
    "category_pipeline = Pipeline([\n",
    "    ('selector', DataFrameSelector(cat_attrs)),\n",
    "    ('labelbin', LabelBinarizer()),\n",
    "])\n",
    "\n",
    "\n",
    "\n",
    "all_pipeline = Pipeline([\n",
    "    ('cleaning', cleaning_pipeline),\n",
    "    ('features', FeatureUnion(transformer_list=[\n",
    "        ('cat_bin', category_pipeline),\n",
    "        ('selector', DataFrameSelector(features)),\n",
    "    ])),\n",
    "    ('nan', CleanNaN())\n",
    "])\n",
    "\n",
    "data_prep = all_pipeline.fit_transform(hosp_data.copy())\n",
    "data_prep\n",
    "\n"
   ]
  },
  {
   "cell_type": "code",
   "execution_count": 209,
   "metadata": {
    "collapsed": false
   },
   "outputs": [],
   "source": [
    "data_prep.shape\n",
    "labels = data_prep[:,76]\n",
    "train_data = data_prep[:,:76]"
   ]
  },
  {
   "cell_type": "code",
   "execution_count": 211,
   "metadata": {
    "collapsed": false
   },
   "outputs": [
    {
     "name": "stdout",
     "output_type": "stream",
     "text": [
      "Scores: [  1.54871878e+10   1.42938935e+10   3.33732305e+10   1.44956947e-01\n",
      "   3.17760796e+09   1.51624712e-01   1.47903290e+11   1.76482895e-01\n",
      "   2.12314205e-01   2.36254739e-01]\n",
      "Mean: 21423520950.138893\n",
      "Std dev: 43420903596.8452\n",
      "\n",
      "Scores: [ 0.16843909  0.1506678   0.1741056   0.16334371  0.17023277  0.19245962\n",
      "  0.20207383  0.20693412  0.22193207  0.24577372]\n",
      "Mean: 0.18959623275878773\n",
      "Std dev: 0.028165855017783972\n",
      "\n"
     ]
    }
   ],
   "source": [
    "#Train a linear classifier on the data\n",
    "from sklearn.linear_model import LinearRegression\n",
    "from sklearn.ensemble import RandomForestRegressor\n",
    "from sklearn.metrics import mean_squared_error\n",
    "from sklearn.model_selection import cross_val_score\n",
    "\n",
    "def display_results(res):\n",
    "    print(\"Scores: {}\\nMean: {}\\nStd dev: {}\\n\".format(res, res.mean(), res.std()))\n",
    "\n",
    "def cross_validate_model(regression, data, labels):\n",
    "    scores = cross_val_score(regression, data, labels, scoring='neg_mean_squared_error', cv=10)\n",
    "    rmse_scores = np.sqrt(-scores)\n",
    "    return rmse_scores\n",
    "\n",
    "\n",
    "def calculate_rmse(labels, predictions, name_of_model):\n",
    "    mse = mean_squared_error(labels, predictions)\n",
    "    rmse = np.sqrt(mse)\n",
    "    print('For model {} mse is: {} and rmse is: {}'.format(name_of_model, mse, rmse))\n",
    "\n",
    "\n",
    "lin_reg = LinearRegression()\n",
    "lin_reg.fit(train_data, labels)\n",
    "\n",
    "lin_pred = lin_reg.predict(train_data)\n",
    "display_results(cross_validate_model(lin_reg, train_data, labels))\n",
    "\n",
    "rndFor = RandomForestRegressor()\n",
    "display_results(cross_validate_model(rndFor, train_data, labels))\n"
   ]
  },
  {
   "cell_type": "code",
   "execution_count": null,
   "metadata": {
    "collapsed": true
   },
   "outputs": [],
   "source": []
  }
 ],
 "metadata": {
  "kernelspec": {
   "display_name": "Python 3",
   "language": "python",
   "name": "python3"
  },
  "language_info": {
   "codemirror_mode": {
    "name": "ipython",
    "version": 3
   },
   "file_extension": ".py",
   "mimetype": "text/x-python",
   "name": "python",
   "nbconvert_exporter": "python",
   "pygments_lexer": "ipython3",
   "version": "3.6.0"
  }
 },
 "nbformat": 4,
 "nbformat_minor": 2
}
